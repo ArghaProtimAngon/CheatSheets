{
  "cells": [
    {
      "cell_type": "markdown",
      "metadata": {
        "id": "-1UfbapUPU7o"
      },
      "source": [
        "# **Background information:**\n",
        "\n",
        "numpy is a multi dimensional array\n",
        "\n",
        "\n",
        "---\n",
        "\n",
        "\n",
        "reasons why numpy array is better than List:\n",
        "\n",
        "1.  numpy uses fixed type\n",
        "2.  numpy takes less space for each data\n",
        "3.  numpy does not have type checking. type is determined at initialization\n",
        "4.  numpy uses contiguous memory(not list). This enables SIMD Vector processing. this also enables cache utilizetion\n",
        "\n",
        "\n",
        "\n",
        "---\n",
        "\n",
        "\n",
        "axix = 0 means column\n",
        "axis = 1 means row\n",
        "\n",
        "\n",
        "\n",
        "\n"
      ]
    },
    {
      "cell_type": "markdown",
      "metadata": {
        "id": "Vve4peauxMLh"
      },
      "source": [
        "# import library"
      ]
    },
    {
      "cell_type": "code",
      "execution_count": 72,
      "metadata": {
        "id": "6DEIu-wuxXR3"
      },
      "outputs": [],
      "source": [
        "import numpy as np"
      ]
    },
    {
      "cell_type": "markdown",
      "metadata": {
        "id": "vaUOoi2SwkfJ"
      },
      "source": [
        "# Initialize numpy array\n",
        "\n",
        "\n",
        "\n",
        "\n",
        "\n",
        "dtype is an optional parametter. it can be used to set the datatype of the array. especially, the type int16 can be used to reduce the size of array as the default value for dtype is int64\n",
        "\n",
        "\n",
        "\n",
        "\n",
        "---\n",
        "\n",
        "\n",
        "\n",
        "List of function:\n",
        "\n",
        "\n",
        "\n",
        "\n",
        "* np.array()\n",
        "* np.zeros()\n",
        "* np.ones()\n",
        "* np.full()\n",
        "* np.full_like()\n",
        "* np.random.rand()\n",
        "* np.random.randint()\n",
        "* np.identity()\n",
        "* np.repeat()\n",
        "\n",
        "\n",
        "\n",
        "\n",
        "\n",
        "\n"
      ]
    },
    {
      "cell_type": "code",
      "execution_count": 73,
      "metadata": {
        "colab": {
          "base_uri": "https://localhost:8080/"
        },
        "id": "yjC6qH0tM_xr",
        "outputId": "ee663748-9b4d-4846-c85f-22eae3f212bf"
      },
      "outputs": [
        {
          "name": "stdout",
          "output_type": "stream",
          "text": [
            "#Initializing by hand\n",
            "[1 2 3 4]\n",
            "[[1 2 3 4]\n",
            " [5 6 7 8]]\n",
            "\n",
            "\n",
            "\n",
            "\n",
            "initialize all element by zero\n",
            "[[0 0 0]\n",
            " [0 0 0]]\n",
            "\n",
            "\n",
            "\n",
            "\n",
            "#initialize all element by 1\n",
            "[[1 1 1]\n",
            " [1 1 1]]\n",
            "\n",
            "\n",
            "\n",
            "\n",
            "initialize all element by 99\n",
            "[[99 99 99]\n",
            " [99 99 99]]\n",
            "\n",
            "\n",
            "\n",
            "\n",
            "initialize all element by 99 and dimension will be similar to the array b\n",
            "b: [1 2 3 4]\n",
            "a: [99 99 99 99]\n",
            "\n",
            "\n",
            "\n",
            "\n",
            "initialize all element by random element between 0 to 1\n",
            "[[0.10196286 0.5175748  0.9993582 ]\n",
            " [0.26260512 0.14788495 0.04902352]]\n",
            "\n",
            "\n",
            "\n",
            "\n",
            "initialize all element by random element between 2 to 7\n",
            "[[2 2 4]\n",
            " [6 5 3]]\n",
            "\n",
            "\n",
            "\n",
            "\n",
            "Identitly matrix of size 5\n",
            "[[1. 0. 0. 0. 0.]\n",
            " [0. 1. 0. 0. 0.]\n",
            " [0. 0. 1. 0. 0.]\n",
            " [0. 0. 0. 1. 0.]\n",
            " [0. 0. 0. 0. 1.]]\n",
            "\n",
            "\n",
            "\n",
            "\n",
            "new array called a that was crereated by repeating b three times\n",
            "b: [1 2 3 4]\n",
            "a: [1 1 1 2 2 2 3 3 3 4 4 4]\n",
            "\n",
            "\n",
            "\n",
            "\n"
          ]
        }
      ],
      "source": [
        "#Initializing by hand\n",
        "print(\"#Initializing by hand\")\n",
        "a = np.array([1,2,3,4] , dtype = \"int16\")\n",
        "b = np.array([[1,2,3,4] , [5,6,7,8] ])\n",
        "print(a)\n",
        "print(b)\n",
        "\n",
        "print(\"\\n\\n\\n\")\n",
        "\n",
        "\n",
        "\n",
        "\n",
        "\n",
        "\n",
        "\n",
        "\n",
        "#initialize all element by zero\n",
        "print(\"initialize all element by zero\")\n",
        "a = np.zeros((2,3), dtype = \"int16\") # dimension 2x3\n",
        "print(a)\n",
        "\n",
        "print(\"\\n\\n\\n\")\n",
        "\n",
        "\n",
        "\n",
        "\n",
        "\n",
        "\n",
        "\n",
        "\n",
        "\n",
        "#initialize all element by 1\n",
        "print(\"#initialize all element by 1\")\n",
        "a = np.ones((2,3) , dtype = \"int16\") # dimension 2x3\n",
        "print(a)\n",
        "\n",
        "print(\"\\n\\n\\n\")\n",
        "\n",
        "\n",
        "\n",
        "\n",
        "\n",
        "\n",
        "\n",
        "\n",
        "\n",
        "#initialize all element by 99\n",
        "print(\"initialize all element by 99\")\n",
        "a = np.full((2,3), 99, dtype = \"int16\" ) # dimension 2x3\n",
        "print(a)\n",
        "\n",
        "print(\"\\n\\n\\n\")\n",
        "\n",
        "\n",
        "\n",
        "\n",
        "\n",
        "\n",
        "\n",
        "\n",
        "\n",
        "\n",
        "#initialize all element by 99 and dimension will be similar to the array b\n",
        "print(\"initialize all element by 99 and dimension will be similar to the array b\")\n",
        "b = np.array([1,2,3,4])\n",
        "a = np.full_like(b,99)\n",
        "print(\"b:\",b)\n",
        "print(\"a:\",a)\n",
        "\n",
        "print(\"\\n\\n\\n\")\n",
        "\n",
        "\n",
        "\n",
        "\n",
        "\n",
        "\n",
        "\n",
        "\n",
        "\n",
        "#initialize all element by random element between 0 to 1\n",
        "print(\"initialize all element by random element between 0 to 1\")\n",
        "a = np.random.rand(2,3) # dimension 2x3\n",
        "print(a)\n",
        "\n",
        "print(\"\\n\\n\\n\")\n",
        "\n",
        "\n",
        "\n",
        "\n",
        "\n",
        "\n",
        "\n",
        "\n",
        "\n",
        "\n",
        "\n",
        "\n",
        "\n",
        "\n",
        "\n",
        "\n",
        "#initialize all element by random element between 2 to 7\n",
        "print(\"initialize all element by random element between 2 to 7\")\n",
        "a = np.random.randint(2,7, size=(2,3)) # dimension 2x3\n",
        "print(a)\n",
        "\n",
        "print(\"\\n\\n\\n\")\n",
        "\n",
        "\n",
        "\n",
        "\n",
        "\n",
        "\n",
        "\n",
        "\n",
        "\n",
        "\n",
        "\n",
        "\n",
        "\n",
        "\n",
        "#Identitly matrix of size 5\n",
        "print(\"Identitly matrix of size 5\")\n",
        "a = np.identity(5) # dimension 5x5\n",
        "print(a)\n",
        "\n",
        "print(\"\\n\\n\\n\")\n",
        "\n",
        "\n",
        "\n",
        "\n",
        "\n",
        "\n",
        "\n",
        "\n",
        "\n",
        "\n",
        "\n",
        "\n",
        "\n",
        "\n",
        "\n",
        "\n",
        "\n",
        "#new array called a that was crereated by repeating b three times\n",
        "print(\"new array called a that was crereated by repeating b three times\")\n",
        "b = np.array([1,2,3,4])\n",
        "a = np.repeat(b, 3) # dimension 2x3\n",
        "print(\"b:\",b)\n",
        "print(\"a:\",a)\n",
        "\n",
        "print(\"\\n\\n\\n\")\n",
        "\n",
        "\n",
        "\n",
        "\n",
        "\n",
        "\n",
        "\n",
        "\n",
        "\n",
        "\n",
        "\n",
        "\n",
        "\n",
        "\n",
        "\n",
        "\n",
        "\n",
        "\n",
        "\n",
        "\n",
        "\n"
      ]
    },
    {
      "cell_type": "markdown",
      "metadata": {
        "id": "Xsj7LTVVzCUw"
      },
      "source": [
        "# Finding Dimension and shape"
      ]
    },
    {
      "cell_type": "code",
      "execution_count": 74,
      "metadata": {
        "colab": {
          "base_uri": "https://localhost:8080/"
        },
        "id": "Eh3q9iAlzADv",
        "outputId": "e7ebe781-a5cc-4405-9d20-1ce81986948f"
      },
      "outputs": [
        {
          "name": "stdout",
          "output_type": "stream",
          "text": [
            "Dimension for a: 1\n",
            "Dimension for b: 2\n",
            "Shape for a: (4,)\n",
            "shape for b: (2, 4)\n"
          ]
        }
      ],
      "source": [
        "a = np.array([1,2,3,4] , dtype = \"int16\")\n",
        "b = np.array([[1,2,3,4] , [5,6,7,8] ])\n",
        "\n",
        "print(\"Dimension for a:\",   a.ndim)\n",
        "print(\"Dimension for b:\",   b.ndim)\n",
        "print(\"Shape for a:\",  a.shape)\n",
        "print(\"shape for b:\",   b.shape)"
      ]
    },
    {
      "cell_type": "markdown",
      "metadata": {
        "id": "-64kDw3m0Thy"
      },
      "source": [
        "# Finding datatype, element size and total size"
      ]
    },
    {
      "cell_type": "code",
      "execution_count": 75,
      "metadata": {
        "colab": {
          "base_uri": "https://localhost:8080/"
        },
        "id": "_TJMuqO00SwV",
        "outputId": "383ff4c5-9215-4699-877a-c4861bd77758"
      },
      "outputs": [
        {
          "name": "stdout",
          "output_type": "stream",
          "text": [
            "DataType for a: int16\n",
            "DataType for b: int64\n",
            "Size of each element for a (bytes): 2\n",
            "Size of each element for b (bytes): 8\n",
            "Total size for a (bytes): 8\n",
            "Total size for b (bytes): 64\n"
          ]
        }
      ],
      "source": [
        "a = np.array([1,2,3,4] , dtype = \"int16\")\n",
        "b = np.array([[1,2,3,4] , [5,6,7,8] ])\n",
        "\n",
        "print(\"DataType for a:\",   a.dtype)\n",
        "print(\"DataType for b:\",b.dtype)\n",
        "print(\"Size of each element for a (bytes):\",   a.itemsize)\n",
        "print(\"Size of each element for b (bytes):\",   b.itemsize)\n",
        "print(\"Total size for a (bytes):\",  a.nbytes)\n",
        "print(\"Total size for b (bytes):\",   b.nbytes)"
      ]
    },
    {
      "cell_type": "markdown",
      "metadata": {
        "id": "lEYfDUSaTyoy"
      },
      "source": [
        "# Changing Data Type"
      ]
    },
    {
      "cell_type": "code",
      "execution_count": 76,
      "metadata": {
        "colab": {
          "base_uri": "https://localhost:8080/"
        },
        "id": "lG5RJYYRTybT",
        "outputId": "0d101070-b7e6-491a-9e5b-9dfc364dcb74"
      },
      "outputs": [
        {
          "name": "stdout",
          "output_type": "stream",
          "text": [
            "Previous Type:  int16\n",
            "New Type:  float64\n"
          ]
        }
      ],
      "source": [
        "a = np.array([1,2,3,4] , dtype = \"int16\")\n",
        "print(\"Previous Type: \",a.dtype)\n",
        "a = a.astype(\"float\")\n",
        "print(\"New Type: \",a.dtype)"
      ]
    },
    {
      "cell_type": "markdown",
      "metadata": {
        "id": "Nlur6g4n0oaZ"
      },
      "source": [
        "# Accessing numpy array\n",
        "List splicing logic can be used here"
      ]
    },
    {
      "cell_type": "markdown",
      "metadata": {
        "id": "RMt_S7Oj3Wvh"
      },
      "source": [
        "one dimensional array"
      ]
    },
    {
      "cell_type": "code",
      "execution_count": 77,
      "metadata": {
        "colab": {
          "base_uri": "https://localhost:8080/"
        },
        "id": "6iG71zmqzfp8",
        "outputId": "a13cd9c0-93e3-40fa-db4a-c712c7033db9"
      },
      "outputs": [
        {
          "name": "stdout",
          "output_type": "stream",
          "text": [
            "[1 2 3 4]\n",
            "\n",
            "4\n",
            "\n",
            "[2 3 4]\n"
          ]
        }
      ],
      "source": [
        "a = np.array([1,2,3,4])\n",
        "print(a)\n",
        "\n",
        "\n",
        "\n",
        "\n",
        "#Accessing one element\n",
        "print(\"\")\n",
        "print(a[3])\n",
        "\n",
        "\n",
        "\n",
        "\n",
        "#Accessing multiple element (From second element to fourth element)\n",
        "print(\"\")\n",
        "print(a[1:4])"
      ]
    },
    {
      "cell_type": "markdown",
      "metadata": {
        "id": "Y9EkEpt73wU5"
      },
      "source": [
        "Multi-Dimensional array"
      ]
    },
    {
      "cell_type": "code",
      "execution_count": 78,
      "metadata": {
        "colab": {
          "base_uri": "https://localhost:8080/"
        },
        "id": "VOHHfwcM3djG",
        "outputId": "2c9e27b9-25da-4d47-91ed-1bace612e98f"
      },
      "outputs": [
        {
          "name": "stdout",
          "output_type": "stream",
          "text": [
            "[[ 1  2  3  4  5  6  7  8]\n",
            " [ 3  4  5  6  7  8  9  7]\n",
            " [11 22 33 44 55 66 77 88]]\n",
            "\n",
            "\n",
            "Accesssing element of row 1 column 5 (Assuming row and columns starts from 0)\n",
            "8\n",
            "\n",
            "\n",
            "Getting specific row . row 0 (Assuming row and columns starts from 0)\n",
            "[1 2 3 4 5 6 7 8]\n",
            "\n",
            "\n",
            "Getting specific column . column 4 (Assuming row and columns starts from 0)\n",
            "[ 5  7 55]\n",
            "\n",
            "\n",
            "Accesssing element of row 1 column 5 (Assuming row and columns starts from 0)\n",
            "[[ 6  7]\n",
            " [44 55]]\n",
            "\n",
            "\n"
          ]
        }
      ],
      "source": [
        "a = np.array([[1,2,3,4,5,6,7,8],  [ 3,4,5,6,7,8,9,7], [11,22,33,44,55,66,77,88]  ])\n",
        "print(a ,end = \"\\n\\n\\n\")\n",
        "\n",
        "\n",
        "\n",
        "\n",
        "#Accesssing element of row 1 column 5 (Assuming row and columns starts from 0)\n",
        "print(\"Accesssing element of row 1 column 5 (Assuming row and columns starts from 0)\")\n",
        "print(a[1,5]  ,end = \"\\n\\n\\n\" )\n",
        "\n",
        "\n",
        "\n",
        "\n",
        "#Getting specific row . row 0 (Assuming row and columns starts from 0)\n",
        "print(\"Getting specific row . row 0 (Assuming row and columns starts from 0)\")\n",
        "print(a[0,:],end = \"\\n\\n\\n\")\n",
        "\n",
        "\n",
        "\n",
        "\n",
        "#Getting specific column . column 4 (Assuming row and columns starts from 0)\n",
        "print(\"Getting specific column . column 4 (Assuming row and columns starts from 0)\")\n",
        "print(a[:,4],end = \"\\n\\n\\n\")\n",
        "\n",
        "\n",
        "\n",
        "\n",
        "\n",
        "\n",
        "\"\"\"\" Accessing the chunk that was * icon with it\n",
        "[[ 1  2  3  4  5  6  7  8]\n",
        " [ 3  4  5  6*  7*  8  9  7]\n",
        " [11 22 33 44* 55* 66 77 88]]\n",
        "\"\"\"\n",
        "print(\"Accesssing element of row 1 column 5 (Assuming row and columns starts from 0)\")\n",
        "print(a[ 1:3 ,3:5],end = \"\\n\\n\\n\")\n",
        "\n"
      ]
    },
    {
      "cell_type": "markdown",
      "metadata": {
        "id": "qqI71h235eU9"
      },
      "source": [
        "# Changing rows and columns of numpy array"
      ]
    },
    {
      "cell_type": "code",
      "execution_count": 79,
      "metadata": {
        "colab": {
          "base_uri": "https://localhost:8080/"
        },
        "id": "9hMz_VyH5cLk",
        "outputId": "378f44a3-6ae1-4062-b330-d0519d92e00f"
      },
      "outputs": [
        {
          "name": "stdout",
          "output_type": "stream",
          "text": [
            "[[ 1  2  3  4  5  6  7  8]\n",
            " [ 3  4  5  6  7  8  9  7]\n",
            " [11 22 33 44 55 66 77 88]]\n",
            "\n",
            "\n",
            "changing the entire column 2 to 99 (Assuming row and columns starts from 0)\n",
            "[[ 1  2 99  4  5  6  7  8]\n",
            " [ 3  4 99  6  7  8  9  7]\n",
            " [11 22 99 44 55 66 77 88]]\n",
            "\n",
            "\n",
            "changing the entire row 0 to 99 (Assuming row and columns starts from 0)\n",
            "[[99 99 99 99 99 99 99 99]\n",
            " [ 3  4 99  6  7  8  9  7]\n",
            " [11 22 99 44 55 66 77 88]]\n",
            "\n",
            "\n",
            "changing column 6 to [123,234,345] (Assuming row and columns starts from 0)\n",
            "[[ 99  99  99  99  99  99 123  99]\n",
            " [  3   4  99   6   7   8 234   7]\n",
            " [ 11  22  99  44  55  66 345  88]]\n",
            "\n",
            "\n"
          ]
        }
      ],
      "source": [
        "a = np.array([[1,2,3,4,5,6,7,8], [ 3,4,5,6,7,8,9,7], [11,22,33,44,55,66,77,88]])\n",
        "print(a ,end=\"\\n\\n\\n\" )\n",
        "\n",
        "\n",
        "\n",
        "\n",
        "#changing the entire column 2 to 99 (Assuming row and columns starts from 0)\n",
        "a[:, 2] = 99\n",
        "print( \"changing the entire column 2 to 99 (Assuming row and columns starts from 0)\")\n",
        "print(a,end=\"\\n\\n\\n\" )\n",
        "\n",
        "\n",
        "\n",
        "\n",
        "\n",
        "#changing the entire row 0 to 99 (Assuming row and columns starts from 0)\n",
        "a[0, :] = 99\n",
        "print(\"changing the entire row 0 to 99 (Assuming row and columns starts from 0)\")\n",
        "print(a,end=\"\\n\\n\\n\" )\n",
        "\n",
        "\n",
        "\n",
        "\n",
        "\n",
        "\n",
        "#changing column 6 to [123,234,345] (Assuming row and columns starts from 0)\n",
        "a[:, 6] =[123,234,345]\n",
        "print(\"changing column 6 to [123,234,345] (Assuming row and columns starts from 0)\")\n",
        "print(a,end=\"\\n\\n\\n\" )\n"
      ]
    },
    {
      "cell_type": "markdown",
      "metadata": {
        "id": "W8R4KsJx5aPZ"
      },
      "source": [
        "# Basic mathematics with numpy\n"
      ]
    },
    {
      "cell_type": "code",
      "execution_count": 80,
      "metadata": {
        "colab": {
          "base_uri": "https://localhost:8080/"
        },
        "id": "wuWQahhh38yC",
        "outputId": "91f4b023-9b92-46fd-c5db-53e3b399ad87"
      },
      "outputs": [
        {
          "name": "stdout",
          "output_type": "stream",
          "text": [
            "adding 2 to the whole array\n",
            "Original array: [1 2 3 4]\n",
            "Output array:  [3 4 5 6]\n",
            "\n",
            "\n",
            "\n",
            "\n",
            "subtracting 2 to the whole array\n",
            "Original array: [1 2 3 4]\n",
            "Output array:  [-1  0  1  2]\n",
            "\n",
            "\n",
            "\n",
            "\n",
            "multiplicating 2 to the whole array\n",
            "Original array: [1 2 3 4]\n",
            "Output array:  [2 4 6 8]\n",
            "\n",
            "\n",
            "\n",
            "\n",
            "dividing 2 to the whole array\n",
            "Original array: [1 2 3 4]\n",
            "Output array:  [0.5 1.  1.5 2. ]\n",
            "\n",
            "\n",
            "\n",
            "\n",
            "sine (cos, tan , sinh, etc can be done in the same way)\n",
            "Original array: [1 2 3 4]\n",
            "Output array:  [ 0.84147098  0.90929743  0.14112001 -0.7568025 ]\n",
            "\n",
            "\n",
            "\n",
            "\n",
            "adding array a with array b (other operations can be done in the same way)\n",
            "Original array a: [1 2 3 4]\n",
            "Original array b: [2 3 4 5]\n",
            "Output array:  [3 5 7 9]\n",
            "\n",
            "\n",
            "\n",
            "\n"
          ]
        }
      ],
      "source": [
        "# adding 2 to the whole array\n",
        "print(\"adding 2 to the whole array\")\n",
        "a = np.array([1,2,3,4])\n",
        "print(\"Original array:\",a)\n",
        "a = a + 2\n",
        "print(\"Output array: \" ,a)\n",
        "\n",
        "print(\"\\n\\n\\n\")\n",
        "\n",
        "\n",
        "\n",
        "\n",
        "\n",
        "\n",
        "\n",
        "\n",
        "\n",
        "\n",
        "\n",
        "\n",
        "\n",
        "\n",
        "# subtracting 2 to the whole array\n",
        "print(\"subtracting 2 to the whole array\")\n",
        "a = np.array([1,2,3,4])\n",
        "print(\"Original array:\",a)\n",
        "a = a - 2\n",
        "print(\"Output array: \" ,a)\n",
        "\n",
        "print(\"\\n\\n\\n\")\n",
        "\n",
        "\n",
        "\n",
        "\n",
        "\n",
        "\n",
        "\n",
        "\n",
        "\n",
        "\n",
        "\n",
        "\n",
        "\n",
        "\n",
        "\n",
        "# multiplicating 2 to the whole array\n",
        "print(\"multiplicating 2 to the whole array\")\n",
        "a = np.array([1,2,3,4])\n",
        "print(\"Original array:\",a)\n",
        "a = a * 2\n",
        "print(\"Output array: \" ,a)\n",
        "\n",
        "print(\"\\n\\n\\n\")\n",
        "\n",
        "\n",
        "\n",
        "\n",
        "\n",
        "\n",
        "\n",
        "\n",
        "\n",
        "\n",
        "\n",
        "\n",
        "\n",
        "# dividing 2 to the whole array\n",
        "print(\"dividing 2 to the whole array\")\n",
        "a = np.array([1,2,3,4])\n",
        "print(\"Original array:\",a)\n",
        "a = a / 2\n",
        "print(\"Output array: \" ,a)\n",
        "\n",
        "print(\"\\n\\n\\n\")\n",
        "\n",
        "\n",
        "\n",
        "\n",
        "\n",
        "\n",
        "\n",
        "\n",
        "\n",
        "\n",
        "\n",
        "\n",
        "\n",
        "\n",
        "# sine (cos, tan , sinh, etc can be done in the same way)\n",
        "print(\"sine (cos, tan , sinh, etc can be done in the same way)\")\n",
        "a = np.array([1,2,3,4])\n",
        "print(\"Original array:\",a)\n",
        "a = np.sin(a)\n",
        "print(\"Output array: \" ,a)\n",
        "\n",
        "print(\"\\n\\n\\n\")\n",
        "\n",
        "\n",
        "\n",
        "\n",
        "\n",
        "\n",
        "\n",
        "\n",
        "\n",
        "\n",
        "\n",
        "\n",
        "# Adding one array with another array\n",
        "# adding array a with array b (other operations can be done in the same way)\n",
        "print(\"adding array a with array b (other operations can be done in the same way)\")\n",
        "a = np.array([1,2,3,4])\n",
        "b = np.array([2,3,4,5])\n",
        "print(\"Original array a:\",a)\n",
        "print(\"Original array b:\",b)\n",
        "c = a+b\n",
        "print(\"Output array: \" ,c)\n",
        "\n",
        "print(\"\\n\\n\\n\")\n",
        "\n",
        "\n"
      ]
    },
    {
      "cell_type": "markdown",
      "metadata": {
        "id": "2yMydrV0I150"
      },
      "source": [
        "# Linear Algebra\n",
        "\n",
        "\n",
        "\n",
        "---\n",
        "\n",
        "functions used:\n",
        "* np.matmul()\n",
        "* np.linalg.det()"
      ]
    },
    {
      "cell_type": "code",
      "execution_count": 81,
      "metadata": {
        "colab": {
          "base_uri": "https://localhost:8080/"
        },
        "id": "Vkc6p04KHg9i",
        "outputId": "9f2688a4-a7c2-4b99-b299-48f725a25097"
      },
      "outputs": [
        {
          "name": "stdout",
          "output_type": "stream",
          "text": [
            "Matrix a: \n",
            " [[1. 1. 1.]\n",
            " [1. 1. 1.]]\n",
            "Matrix b: \n",
            " [[8 2]\n",
            " [9 4]\n",
            " [2 8]]\n",
            "Matrix multiplication of a and b: \n",
            " [[19. 14.]\n",
            " [19. 14.]]\n",
            "\n",
            "\n",
            "\n",
            "\n",
            "determinant of matrix\n",
            "Matrix a: \n",
            " [[4 8 6]\n",
            " [6 7 6]\n",
            " [7 8 3]]\n",
            "Determinant of matrix a: \n",
            " 78.0\n",
            "\n",
            "\n",
            "\n",
            "\n"
          ]
        }
      ],
      "source": [
        "#matrix multiplication\n",
        "a = np.ones((2,3))\n",
        "print(\"Matrix a: \\n\", a)\n",
        "b = np.random.randint(1,10, size = (3,2))\n",
        "print(\"Matrix b: \\n\",b)\n",
        "\n",
        "c = np.matmul(a,b)\n",
        "print(\"Matrix multiplication of a and b: \\n\",c)\n",
        "\n",
        "print(\"\\n\\n\\n\")\n",
        "\n",
        "\n",
        "\n",
        "\n",
        "\n",
        "\n",
        "\n",
        "\n",
        "\n",
        "\n",
        "\n",
        "\n",
        "#determinant of matrix\n",
        "print(\"determinant of matrix\")\n",
        "a = np.random.randint(1,10, size = (3,3))\n",
        "print(\"Matrix a: \\n\",a)\n",
        "b = np.linalg.det(a)\n",
        "print(\"Determinant of matrix a: \\n\",b)\n",
        "\n",
        "print(\"\\n\\n\\n\")\n",
        "\n"
      ]
    },
    {
      "cell_type": "markdown",
      "metadata": {
        "id": "hU6VPFuuI0W2"
      },
      "source": [
        "# Statistics\n",
        "\n",
        "\n",
        "Functions Used:\n",
        "* np.min()"
      ]
    },
    {
      "cell_type": "code",
      "execution_count": 82,
      "metadata": {
        "colab": {
          "base_uri": "https://localhost:8080/"
        },
        "id": "NRfIiFarI1F3",
        "outputId": "ec5f860d-b030-4288-c3c3-37a7022ed576"
      },
      "outputs": [
        {
          "name": "stdout",
          "output_type": "stream",
          "text": [
            "minimum value of entire array\n",
            "Matrix a: \n",
            " [[7 5 4]\n",
            " [3 2 7]]\n",
            "Minimum value of matrix a:  2\n",
            "\n",
            "\n",
            "\n",
            "\n",
            "\n",
            "minimum value from rows\n",
            "Matrix a: \n",
            " [[7 5 4]\n",
            " [3 2 7]]\n",
            "Minimum value of matrix a: \n",
            " [4 2]\n",
            "\n",
            "\n",
            "\n",
            "\n",
            "\n",
            "minimum value from cplumns\n",
            "Matrix a: \n",
            " [[7 5 4]\n",
            " [3 2 7]]\n",
            "Minimum value of matrix a: \n",
            " [3 2 4]\n",
            "\n",
            "\n",
            "\n",
            "\n",
            "\n"
          ]
        }
      ],
      "source": [
        "#minimum value of entire array\n",
        "print(\"minimum value of entire array\")\n",
        "a = np.random.randint(1,10, size=(2,3))\n",
        "print(\"Matrix a: \\n\",a)\n",
        "b = np.min(a)\n",
        "print(\"Minimum value of matrix a: \",b)\n",
        "\n",
        "print(\"\\n\\n\\n\\n\")\n",
        "\n",
        "\n",
        "\n",
        "\n",
        "\n",
        "\n",
        "\n",
        "\n",
        "\n",
        "\n",
        "\n",
        "\n",
        "\n",
        "#minimum value from rows\n",
        "print(\"minimum value from rows\")\n",
        "print(\"Matrix a: \\n\",a)\n",
        "b = np.min(a, axis = 1)\n",
        "print(\"Minimum value of matrix a: \\n\",b)\n",
        "\n",
        "print(\"\\n\\n\\n\\n\")\n",
        "\n",
        "\n",
        "\n",
        "\n",
        "\n",
        "\n",
        "\n",
        "\n",
        "\n",
        "\n",
        "\n",
        "\n",
        "\n",
        "\n",
        "\n",
        "\n",
        "\n",
        "\n",
        "\n",
        "\n",
        "#minimum value from columns\n",
        "print(\"minimum value from cplumns\")\n",
        "print(\"Matrix a: \\n\",a)\n",
        "b = np.min(a, axis = 0)\n",
        "print(\"Minimum value of matrix a: \\n\",b)\n",
        "\n",
        "print(\"\\n\\n\\n\\n\")\n",
        "\n"
      ]
    },
    {
      "cell_type": "markdown",
      "metadata": {
        "id": "tapH1xGkPrhl"
      },
      "source": [
        "# Reorganize Array ( Resize, row and column concat)\n",
        "\n",
        "\n",
        "Functions Used:\n",
        "* array.reshape()\n",
        "* np.vstack()\n",
        "* np.hstack()"
      ]
    },
    {
      "cell_type": "markdown",
      "metadata": {
        "id": "1LX7IFopQ-Oz"
      },
      "source": [
        "resize"
      ]
    },
    {
      "cell_type": "code",
      "execution_count": 83,
      "metadata": {
        "colab": {
          "base_uri": "https://localhost:8080/"
        },
        "id": "wTCUvD6kN--6",
        "outputId": "bb4c7687-0ec0-47d9-f667-6bcb7408d8fa"
      },
      "outputs": [
        {
          "name": "stdout",
          "output_type": "stream",
          "text": [
            "\n",
            "Original Array: \n",
            " [[4 8 5 7]\n",
            " [3 8 1 7]\n",
            " [8 2 6 6]]\n",
            "\n",
            "\n",
            "\n",
            "\n",
            "reshape by 1x12\n",
            "output: \n",
            " [[4 8 5 7 3 8 1 7 8 2 6 6]]\n",
            "\n",
            "\n",
            "\n",
            "\n",
            "reshape by 12x1\n",
            "output: \n",
            " [[4]\n",
            " [8]\n",
            " [5]\n",
            " [7]\n",
            " [3]\n",
            " [8]\n",
            " [1]\n",
            " [7]\n",
            " [8]\n",
            " [2]\n",
            " [6]\n",
            " [6]]\n",
            "\n",
            "\n",
            "\n",
            "\n",
            "reshape by 6x2\n",
            "output: \n",
            " [[4 8]\n",
            " [5 7]\n",
            " [3 8]\n",
            " [1 7]\n",
            " [8 2]\n",
            " [6 6]]\n",
            "\n",
            "\n",
            "\n",
            "\n",
            "\n",
            "\n",
            "\n",
            "\n",
            "\n",
            "\n"
          ]
        }
      ],
      "source": [
        "#Reshape Array (For reshape just have to make sure number of element remains same after reshape)\n",
        "print(\"\")\n",
        "a = np.random.randint(1,10,size= (3,4))\n",
        "print(\"Original Array: \\n\",a)\n",
        "\n",
        "print(\"\\n\\n\\n\")\n",
        "\n",
        "\n",
        "\n",
        "\n",
        "\n",
        "\n",
        "#reshape by 1x12\n",
        "print(\"reshape by 1x12\")\n",
        "b = a.reshape((1,12))\n",
        "print(\"output: \\n\" ,b)\n",
        "\n",
        "print(\"\\n\\n\\n\")\n",
        "\n",
        "\n",
        "\n",
        "\n",
        "\n",
        "\n",
        "\n",
        "\n",
        "\n",
        "#reshape by 12x1\n",
        "print(\"reshape by 12x1\")\n",
        "c = a.reshape((12,1))\n",
        "print(\"output: \\n\" ,c)\n",
        "\n",
        "print(\"\\n\\n\\n\")\n",
        "\n",
        "\n",
        "\n",
        "\n",
        "\n",
        "\n",
        "\n",
        "\n",
        "\n",
        "\n",
        "\n",
        "\n",
        "\n",
        "#reshape by 6x2\n",
        "print(\"reshape by 6x2\")\n",
        "d = a.reshape((6,2))\n",
        "print(\"output: \\n\" ,d)\n",
        "\n",
        "\n",
        "\n",
        "print(\"\\n\\n\\n\\n\\n\\n\\n\\n\\n\")"
      ]
    },
    {
      "cell_type": "markdown",
      "metadata": {
        "id": "ToQgbX16RcYH"
      },
      "source": [
        "vstack"
      ]
    },
    {
      "cell_type": "code",
      "execution_count": 84,
      "metadata": {
        "colab": {
          "base_uri": "https://localhost:8080/"
        },
        "id": "wy0c_ecqRLgJ",
        "outputId": "16c36641-4d60-47cc-efda-b8622bb1ff4c"
      },
      "outputs": [
        {
          "name": "stdout",
          "output_type": "stream",
          "text": [
            "concatenating rows of array b on array a \n",
            "Matrix a: \n",
            " [[6 6]\n",
            " [4 3]]\n",
            "Matrix b: \n",
            " [[7 4]\n",
            " [5 3]]\n",
            "Array a after Concatenation: \n",
            " [[6 6]\n",
            " [4 3]\n",
            " [7 4]\n",
            " [5 3]]\n",
            "\n",
            "\n",
            "\n",
            "\n",
            "\n",
            "concatenating columns of array b on array a\n",
            "Matrix a: \n",
            " [[2 9]\n",
            " [3 5]]\n",
            "Matrix b: \n",
            " [[1 5]\n",
            " [4 5]]\n",
            "Array a after Concatenation: \n",
            " [[2 9 1 5]\n",
            " [3 5 4 5]]\n",
            "\n",
            "\n",
            "\n",
            "\n",
            "\n",
            "\n",
            "\n",
            "\n",
            "\n"
          ]
        }
      ],
      "source": [
        "#concatenating rows of array b on array a\n",
        "print(\"concatenating rows of array b on array a \")\n",
        "a = np.random.randint(1,10 , size = (2,2))\n",
        "b = np.random.randint(1,10 , size = (2,2))\n",
        "print(\"Matrix a: \\n\" ,a)\n",
        "print(\"Matrix b: \\n\" ,b)\n",
        "\n",
        "a = np.vstack([a,b])\n",
        "print(\"Array a after Concatenation: \\n\",a)\n",
        "\n",
        "print(\"\\n\\n\\n\\n\")\n",
        "\n",
        "\n",
        "\n",
        "\n",
        "\n",
        "\n",
        "\n",
        "\n",
        "\n",
        "\n",
        "\n",
        "\n",
        "\n",
        "\n",
        "#concatenating columns of array b on array a\n",
        "print(\"concatenating columns of array b on array a\")\n",
        "a = np.random.randint(1,10 , size = (2,2))\n",
        "b = np.random.randint(1,10 , size = (2,2))\n",
        "print(\"Matrix a: \\n\" ,a)\n",
        "print(\"Matrix b: \\n\" ,b)\n",
        "\n",
        "a = np.hstack((a,b))\n",
        "print(\"Array a after Concatenation: \\n\",a)\n",
        "\n",
        "print(\"\\n\"*8)"
      ]
    },
    {
      "cell_type": "markdown",
      "metadata": {
        "id": "Hyy4s8N5UHIK"
      },
      "source": []
    },
    {
      "cell_type": "markdown",
      "metadata": {
        "id": "lqYb1YNjUcgN"
      },
      "source": [
        "# Load Data From Files\n",
        "\n",
        "\n",
        "\n",
        "\n",
        "np.genfromtxt() :  first parameter is filename. delimeter parameter is used to know how is the data organized. if the datas are separated by comma, then the value of delimiter = \",\".  Works like the split function\n",
        "\n",
        "\n",
        "on defaults the data type of using this function is float\n",
        "\n",
        "\n",
        "---\n",
        "\n",
        "function used:\n",
        "* np.genfromtxt()"
      ]
    },
    {
      "cell_type": "code",
      "execution_count": null,
      "metadata": {
        "collapsed": true,
        "id": "_U7vHjZCUEdW"
      },
      "outputs": [],
      "source": [
        "a = np.genfromtxt(\"data.txt\", delimiter = \",\")"
      ]
    },
    {
      "cell_type": "markdown",
      "metadata": {
        "id": "3TKphDf7XYq_"
      },
      "source": [
        "# Boolean mask and filtering using boolean mask\n",
        "\n",
        "\n",
        "Funcion Used:\n",
        "* np.any()\n",
        "* np.all()"
      ]
    },
    {
      "cell_type": "code",
      "execution_count": 86,
      "metadata": {
        "colab": {
          "base_uri": "https://localhost:8080/"
        },
        "id": "IthtQ7D6Xf5h",
        "outputId": "8e988c27-c47e-4d98-9b8d-99b4c5c0abd6"
      },
      "outputs": [
        {
          "name": "stdout",
          "output_type": "stream",
          "text": [
            "boolean mask for all number greater than 5\n",
            "Matrix: \n",
            " [[6 2 8 2 7 2 8 1 8 5 3 1 9 7 9 8 9 6 5 4]]\n",
            "Boolen Mask: \n",
            " [[ True False  True False  True False  True False  True False False False\n",
            "   True  True  True  True  True  True False False]]\n",
            "\n",
            "\n",
            "\n",
            "\n",
            "\n",
            "Filtering Using Boolean Mask (filtering by if number is greater than 5)\n",
            "Filtered Array: \n",
            " [6 8 7 8 8 9 7 9 8 9 6]\n",
            "\n",
            "\n",
            "\n",
            "\n",
            "\n",
            "#shortHand for filtering (filtering by if number is greater than 5)\n",
            "[6 8 7 8 8 9 7 9 8 9 6]\n",
            "\n",
            "\n",
            "\n",
            "\n",
            "\n",
            "\n",
            "\n",
            "\n",
            "\n",
            "\n",
            "\n"
          ]
        }
      ],
      "source": [
        "#boolean mask for all number greater than 5\n",
        "print(\"boolean mask for all number greater than 5\")\n",
        "a = np.random.randint(1,10 , size=(1,20))\n",
        "print(\"Matrix: \\n\",a)\n",
        "\n",
        "mask = a > 5\n",
        "print(\"Boolen Mask: \\n\", mask)\n",
        "\n",
        "print(\"\\n\"*4)\n",
        "\n",
        "\n",
        "\n",
        "\n",
        "\n",
        "\n",
        "\n",
        "\n",
        "#Filtering Using Boolean Mask (filtering by if number is greater than 5)\n",
        "print(\"Filtering Using Boolean Mask (filtering by if number is greater than 5)\")\n",
        "filtered_data = a[mask]\n",
        "print(\"Filtered Array: \\n\",filtered_data)\n",
        "\n",
        "print(\"\\n\"*4)\n",
        "\n",
        "\n",
        "\n",
        "\n",
        "\n",
        "\n",
        "\n",
        "\n",
        "\n",
        "\n",
        "\n",
        "\n",
        "\n",
        "\n",
        "\n",
        "#shortHand for filtering (filtering by if number is greater than 5)\n",
        "print(\"#shortHand for filtering (filtering by if number is greater than 5)\")\n",
        "a = a[ a>5 ]\n",
        "print(a)\n",
        "\n",
        "print(\"\\n\"*10)"
      ]
    },
    {
      "cell_type": "markdown",
      "metadata": {
        "id": "HfnAJTwlZeX1"
      },
      "source": [
        "boolean mask for rows and culumns"
      ]
    },
    {
      "cell_type": "code",
      "execution_count": 87,
      "metadata": {
        "colab": {
          "base_uri": "https://localhost:8080/"
        },
        "id": "BM8b8h3rYCap",
        "outputId": "4df4c219-fb23-47e6-b7ff-dc9b09217691"
      },
      "outputs": [
        {
          "name": "stdout",
          "output_type": "stream",
          "text": [
            "Array: \n",
            " [[6 1 1 3 9 2 5 6 7 5]\n",
            " [7 9 9 9 7 3 8 5 4 5]\n",
            " [7 7 4 1 2 9 2 4 5 9]]\n",
            "\n",
            "\n",
            "\n",
            "\n",
            "\n",
            "boolean mask for rows (any)(will have true if any value is greater than 5 in rows)\n",
            "[ True  True  True]\n",
            "\n",
            "\n",
            "\n",
            "\n",
            "\n",
            "boolean mask for columns(any)   (will have true if any value is greater than 5 in columns)\n",
            "[ True  True  True  True  True  True  True  True  True  True]\n",
            "\n",
            "\n",
            "\n",
            "\n",
            "\n",
            "boolean mask for rows (all)(will have true if all value of a row is greater than 5 in rows)\n",
            "[False False False]\n",
            "\n",
            "\n",
            "\n",
            "\n",
            "\n",
            "boolean mask for rows (all)(will have true if all value of a column is greater than 5 in columns)\n",
            "[ True False False False False False False False False False]\n",
            "\n",
            "\n",
            "\n",
            "\n",
            "\n"
          ]
        }
      ],
      "source": [
        "a = np.random.randint(1,10 , size= (3,10))\n",
        "print(\"Array: \\n\",a)\n",
        "\n",
        "print(\"\\n\"*4)\n",
        "\n",
        "\n",
        "\n",
        "\n",
        "\n",
        "\n",
        "\n",
        "\n",
        "#boolean mask for rows (any)(will have true if any value is greater than 5 in rows)\n",
        "print(\"boolean mask for rows (any)(will have true if any value is greater than 5 in rows)\")\n",
        "mask = np.any( a > 5  , axis = 1  )\n",
        "print(mask)\n",
        "\n",
        "print(\"\\n\"*4)\n",
        "\n",
        "\n",
        "\n",
        "\n",
        "\n",
        "\n",
        "\n",
        "\n",
        "\n",
        "\n",
        "\n",
        "\n",
        "#boolean mask for columns(any)   (will have true if any value is greater than 5 in columns)\n",
        "print(\"boolean mask for columns(any)   (will have true if any value is greater than 5 in columns)\")\n",
        "mask = np.any( a > 5  , axis = 0  )\n",
        "print(mask)\n",
        "\n",
        "print(\"\\n\"*4)\n",
        "\n",
        "\n",
        "\n",
        "\n",
        "\n",
        "\n",
        "\n",
        "\n",
        "\n",
        "\n",
        "\n",
        "\n",
        "#boolean mask for rows (all)(will have true if all value of a row is greater than 5 in rows)\n",
        "print(\"boolean mask for rows (all)(will have true if all value of a row is greater than 5 in rows)\")\n",
        "mask = np.all( a > 5  , axis = 1  )\n",
        "print(mask)\n",
        "\n",
        "print(\"\\n\"*4)\n",
        "\n",
        "\n",
        "\n",
        "\n",
        "\n",
        "\n",
        "\n",
        "\n",
        "\n",
        "\n",
        "\n",
        "\n",
        "\n",
        "#boolean mask for rows (all)(will have true if all value of a column is greater than 5 in columns)\n",
        "print(\"boolean mask for rows (all)(will have true if all value of a column is greater than 5 in columns)\")\n",
        "mask = np.all( a > 5  , axis = 0  )\n",
        "print(mask)\n",
        "\n",
        "print(\"\\n\"*4)"
      ]
    },
    {
      "cell_type": "code",
      "execution_count": 87,
      "metadata": {
        "id": "2C78poLIa-oC"
      },
      "outputs": [],
      "source": []
    }
  ],
  "metadata": {
    "colab": {
      "provenance": []
    },
    "kernelspec": {
      "display_name": "Python 3",
      "name": "python3"
    },
    "language_info": {
      "name": "python"
    }
  },
  "nbformat": 4,
  "nbformat_minor": 0
}
